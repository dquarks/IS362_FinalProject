{
 "cells": [
  {
   "cell_type": "code",
   "execution_count": 49,
   "metadata": {},
   "outputs": [],
   "source": [
    "import pandas as pd"
   ]
  },
  {
   "cell_type": "code",
   "execution_count": 50,
   "metadata": {},
   "outputs": [],
   "source": [
    "import numpy as np"
   ]
  },
  {
   "cell_type": "code",
   "execution_count": 51,
   "metadata": {},
   "outputs": [],
   "source": [
    "import matplotlib.pyplot as plt"
   ]
  },
  {
   "cell_type": "code",
   "execution_count": 52,
   "metadata": {},
   "outputs": [],
   "source": [
    "import seaborn as sns"
   ]
  },
  {
   "cell_type": "code",
   "execution_count": 53,
   "metadata": {},
   "outputs": [],
   "source": [
    "import re"
   ]
  },
  {
   "cell_type": "code",
   "execution_count": 54,
   "metadata": {},
   "outputs": [],
   "source": [
    "from bs4 import BeautifulSoup as bs"
   ]
  },
  {
   "cell_type": "code",
   "execution_count": 55,
   "metadata": {},
   "outputs": [],
   "source": [
    "import requests"
   ]
  },
  {
   "cell_type": "markdown",
   "metadata": {},
   "source": [
    "## Motivation"
   ]
  },
  {
   "cell_type": "markdown",
   "metadata": {},
   "source": [
    "_The datasets that we will be examining for our analyses are congressional term data and crime/death/homicide rates by state. My motivation for this analysis is to find a correlation between congressional terms and crime/death/homicide rates in the respective states. My preliminary assessment is that there is a correlation between the two._\n",
    "\n",
    "_Our first dataset, \"Congress Age,\" lists term data for congressional incumbents between January 1947 and February 2014. This house membership data is from the @unitedstates project (https://theunitedstates.io/)._\n",
    "\n",
    "_The second dataset, \"Crime Rate by State,\" details state-wise homicide rates, firearms death rates, and total firearm deaths. The data provided in this dataset was collected and published by Statista Research Department (https://www.statista.com/statistics/301549/us-crimes-committed-state/)._ \n"
   ]
  },
  {
   "cell_type": "code",
   "execution_count": 56,
   "metadata": {},
   "outputs": [],
   "source": [
    "url = 'https://raw.githubusercontent.com/fivethirtyeight/data/master/congress-age/congress-terms.csv'"
   ]
  },
  {
   "cell_type": "code",
   "execution_count": 57,
   "metadata": {},
   "outputs": [],
   "source": [
    "congress_df = pd.read_csv(url)"
   ]
  },
  {
   "cell_type": "code",
   "execution_count": 58,
   "metadata": {},
   "outputs": [
    {
     "data": {
      "text/html": [
       "<div>\n",
       "<style scoped>\n",
       "    .dataframe tbody tr th:only-of-type {\n",
       "        vertical-align: middle;\n",
       "    }\n",
       "\n",
       "    .dataframe tbody tr th {\n",
       "        vertical-align: top;\n",
       "    }\n",
       "\n",
       "    .dataframe thead th {\n",
       "        text-align: right;\n",
       "    }\n",
       "</style>\n",
       "<table border=\"1\" class=\"dataframe\">\n",
       "  <thead>\n",
       "    <tr style=\"text-align: right;\">\n",
       "      <th></th>\n",
       "      <th>congress</th>\n",
       "      <th>chamber</th>\n",
       "      <th>bioguide</th>\n",
       "      <th>firstname</th>\n",
       "      <th>middlename</th>\n",
       "      <th>lastname</th>\n",
       "      <th>suffix</th>\n",
       "      <th>birthday</th>\n",
       "      <th>state</th>\n",
       "      <th>party</th>\n",
       "      <th>incumbent</th>\n",
       "      <th>termstart</th>\n",
       "      <th>age</th>\n",
       "    </tr>\n",
       "  </thead>\n",
       "  <tbody>\n",
       "    <tr>\n",
       "      <th>0</th>\n",
       "      <td>80</td>\n",
       "      <td>house</td>\n",
       "      <td>M000112</td>\n",
       "      <td>Joseph</td>\n",
       "      <td>Jefferson</td>\n",
       "      <td>Mansfield</td>\n",
       "      <td>NaN</td>\n",
       "      <td>1861-02-09</td>\n",
       "      <td>TX</td>\n",
       "      <td>D</td>\n",
       "      <td>Yes</td>\n",
       "      <td>1947-01-03</td>\n",
       "      <td>85.9</td>\n",
       "    </tr>\n",
       "    <tr>\n",
       "      <th>1</th>\n",
       "      <td>80</td>\n",
       "      <td>house</td>\n",
       "      <td>D000448</td>\n",
       "      <td>Robert</td>\n",
       "      <td>Lee</td>\n",
       "      <td>Doughton</td>\n",
       "      <td>NaN</td>\n",
       "      <td>1863-11-07</td>\n",
       "      <td>NC</td>\n",
       "      <td>D</td>\n",
       "      <td>Yes</td>\n",
       "      <td>1947-01-03</td>\n",
       "      <td>83.2</td>\n",
       "    </tr>\n",
       "    <tr>\n",
       "      <th>2</th>\n",
       "      <td>80</td>\n",
       "      <td>house</td>\n",
       "      <td>S000001</td>\n",
       "      <td>Adolph</td>\n",
       "      <td>Joachim</td>\n",
       "      <td>Sabath</td>\n",
       "      <td>NaN</td>\n",
       "      <td>1866-04-04</td>\n",
       "      <td>IL</td>\n",
       "      <td>D</td>\n",
       "      <td>Yes</td>\n",
       "      <td>1947-01-03</td>\n",
       "      <td>80.7</td>\n",
       "    </tr>\n",
       "    <tr>\n",
       "      <th>3</th>\n",
       "      <td>80</td>\n",
       "      <td>house</td>\n",
       "      <td>E000023</td>\n",
       "      <td>Charles</td>\n",
       "      <td>Aubrey</td>\n",
       "      <td>Eaton</td>\n",
       "      <td>NaN</td>\n",
       "      <td>1868-03-29</td>\n",
       "      <td>NJ</td>\n",
       "      <td>R</td>\n",
       "      <td>Yes</td>\n",
       "      <td>1947-01-03</td>\n",
       "      <td>78.8</td>\n",
       "    </tr>\n",
       "    <tr>\n",
       "      <th>4</th>\n",
       "      <td>80</td>\n",
       "      <td>house</td>\n",
       "      <td>L000296</td>\n",
       "      <td>William</td>\n",
       "      <td>NaN</td>\n",
       "      <td>Lewis</td>\n",
       "      <td>NaN</td>\n",
       "      <td>1868-09-22</td>\n",
       "      <td>KY</td>\n",
       "      <td>R</td>\n",
       "      <td>No</td>\n",
       "      <td>1947-01-03</td>\n",
       "      <td>78.3</td>\n",
       "    </tr>\n",
       "  </tbody>\n",
       "</table>\n",
       "</div>"
      ],
      "text/plain": [
       "   congress chamber bioguide firstname middlename   lastname suffix  \\\n",
       "0        80   house  M000112    Joseph  Jefferson  Mansfield    NaN   \n",
       "1        80   house  D000448    Robert        Lee   Doughton    NaN   \n",
       "2        80   house  S000001    Adolph    Joachim     Sabath    NaN   \n",
       "3        80   house  E000023   Charles     Aubrey      Eaton    NaN   \n",
       "4        80   house  L000296   William        NaN      Lewis    NaN   \n",
       "\n",
       "     birthday state party incumbent   termstart   age  \n",
       "0  1861-02-09    TX     D       Yes  1947-01-03  85.9  \n",
       "1  1863-11-07    NC     D       Yes  1947-01-03  83.2  \n",
       "2  1866-04-04    IL     D       Yes  1947-01-03  80.7  \n",
       "3  1868-03-29    NJ     R       Yes  1947-01-03  78.8  \n",
       "4  1868-09-22    KY     R        No  1947-01-03  78.3  "
      ]
     },
     "execution_count": 58,
     "metadata": {},
     "output_type": "execute_result"
    }
   ],
   "source": [
    "congress_df.head()"
   ]
  },
  {
   "cell_type": "markdown",
   "metadata": {},
   "source": [
    "__Transformation (1):__ First, we need to reformat and do away with the 'birthday' column. I simply stripped the year out of the birthday entry and created a new \"birthyear\" column. This makes it easy to do simple year-by-year calculations. Next, since the dataset is so large, I only wanted to consider members of the 113th Congress."
   ]
  },
  {
   "cell_type": "code",
   "execution_count": 59,
   "metadata": {},
   "outputs": [],
   "source": [
    "congress_df_modify = congress_df['birthday'].apply(lambda x: x.split('-'))"
   ]
  },
  {
   "cell_type": "code",
   "execution_count": 60,
   "metadata": {},
   "outputs": [],
   "source": [
    "congress_df['birthyear'] = congress_df_modify.apply(lambda x: x[0])"
   ]
  },
  {
   "cell_type": "code",
   "execution_count": 61,
   "metadata": {},
   "outputs": [
    {
     "data": {
      "text/html": [
       "<div>\n",
       "<style scoped>\n",
       "    .dataframe tbody tr th:only-of-type {\n",
       "        vertical-align: middle;\n",
       "    }\n",
       "\n",
       "    .dataframe tbody tr th {\n",
       "        vertical-align: top;\n",
       "    }\n",
       "\n",
       "    .dataframe thead th {\n",
       "        text-align: right;\n",
       "    }\n",
       "</style>\n",
       "<table border=\"1\" class=\"dataframe\">\n",
       "  <thead>\n",
       "    <tr style=\"text-align: right;\">\n",
       "      <th></th>\n",
       "      <th>congress</th>\n",
       "      <th>chamber</th>\n",
       "      <th>bioguide</th>\n",
       "      <th>firstname</th>\n",
       "      <th>middlename</th>\n",
       "      <th>lastname</th>\n",
       "      <th>suffix</th>\n",
       "      <th>state</th>\n",
       "      <th>party</th>\n",
       "      <th>incumbent</th>\n",
       "      <th>termstart</th>\n",
       "      <th>age</th>\n",
       "      <th>birthyear</th>\n",
       "    </tr>\n",
       "  </thead>\n",
       "  <tbody>\n",
       "    <tr>\n",
       "      <th>0</th>\n",
       "      <td>80</td>\n",
       "      <td>house</td>\n",
       "      <td>M000112</td>\n",
       "      <td>Joseph</td>\n",
       "      <td>Jefferson</td>\n",
       "      <td>Mansfield</td>\n",
       "      <td>NaN</td>\n",
       "      <td>TX</td>\n",
       "      <td>D</td>\n",
       "      <td>Yes</td>\n",
       "      <td>1947-01-03</td>\n",
       "      <td>85.9</td>\n",
       "      <td>1861</td>\n",
       "    </tr>\n",
       "    <tr>\n",
       "      <th>1</th>\n",
       "      <td>80</td>\n",
       "      <td>house</td>\n",
       "      <td>D000448</td>\n",
       "      <td>Robert</td>\n",
       "      <td>Lee</td>\n",
       "      <td>Doughton</td>\n",
       "      <td>NaN</td>\n",
       "      <td>NC</td>\n",
       "      <td>D</td>\n",
       "      <td>Yes</td>\n",
       "      <td>1947-01-03</td>\n",
       "      <td>83.2</td>\n",
       "      <td>1863</td>\n",
       "    </tr>\n",
       "    <tr>\n",
       "      <th>2</th>\n",
       "      <td>80</td>\n",
       "      <td>house</td>\n",
       "      <td>S000001</td>\n",
       "      <td>Adolph</td>\n",
       "      <td>Joachim</td>\n",
       "      <td>Sabath</td>\n",
       "      <td>NaN</td>\n",
       "      <td>IL</td>\n",
       "      <td>D</td>\n",
       "      <td>Yes</td>\n",
       "      <td>1947-01-03</td>\n",
       "      <td>80.7</td>\n",
       "      <td>1866</td>\n",
       "    </tr>\n",
       "    <tr>\n",
       "      <th>3</th>\n",
       "      <td>80</td>\n",
       "      <td>house</td>\n",
       "      <td>E000023</td>\n",
       "      <td>Charles</td>\n",
       "      <td>Aubrey</td>\n",
       "      <td>Eaton</td>\n",
       "      <td>NaN</td>\n",
       "      <td>NJ</td>\n",
       "      <td>R</td>\n",
       "      <td>Yes</td>\n",
       "      <td>1947-01-03</td>\n",
       "      <td>78.8</td>\n",
       "      <td>1868</td>\n",
       "    </tr>\n",
       "    <tr>\n",
       "      <th>4</th>\n",
       "      <td>80</td>\n",
       "      <td>house</td>\n",
       "      <td>L000296</td>\n",
       "      <td>William</td>\n",
       "      <td>NaN</td>\n",
       "      <td>Lewis</td>\n",
       "      <td>NaN</td>\n",
       "      <td>KY</td>\n",
       "      <td>R</td>\n",
       "      <td>No</td>\n",
       "      <td>1947-01-03</td>\n",
       "      <td>78.3</td>\n",
       "      <td>1868</td>\n",
       "    </tr>\n",
       "  </tbody>\n",
       "</table>\n",
       "</div>"
      ],
      "text/plain": [
       "   congress chamber bioguide firstname middlename   lastname suffix state  \\\n",
       "0        80   house  M000112    Joseph  Jefferson  Mansfield    NaN    TX   \n",
       "1        80   house  D000448    Robert        Lee   Doughton    NaN    NC   \n",
       "2        80   house  S000001    Adolph    Joachim     Sabath    NaN    IL   \n",
       "3        80   house  E000023   Charles     Aubrey      Eaton    NaN    NJ   \n",
       "4        80   house  L000296   William        NaN      Lewis    NaN    KY   \n",
       "\n",
       "  party incumbent   termstart   age birthyear  \n",
       "0     D       Yes  1947-01-03  85.9      1861  \n",
       "1     D       Yes  1947-01-03  83.2      1863  \n",
       "2     D       Yes  1947-01-03  80.7      1866  \n",
       "3     R       Yes  1947-01-03  78.8      1868  \n",
       "4     R        No  1947-01-03  78.3      1868  "
      ]
     },
     "execution_count": 61,
     "metadata": {},
     "output_type": "execute_result"
    }
   ],
   "source": [
    "congress_df.drop('birthday', axis=1).head()"
   ]
  },
  {
   "cell_type": "code",
   "execution_count": 62,
   "metadata": {},
   "outputs": [],
   "source": [
    "congress_df = congress_df.loc[congress_df['congress'].isin([113])]"
   ]
  },
  {
   "cell_type": "code",
   "execution_count": 63,
   "metadata": {},
   "outputs": [
    {
     "data": {
      "text/html": [
       "<div>\n",
       "<style scoped>\n",
       "    .dataframe tbody tr th:only-of-type {\n",
       "        vertical-align: middle;\n",
       "    }\n",
       "\n",
       "    .dataframe tbody tr th {\n",
       "        vertical-align: top;\n",
       "    }\n",
       "\n",
       "    .dataframe thead th {\n",
       "        text-align: right;\n",
       "    }\n",
       "</style>\n",
       "<table border=\"1\" class=\"dataframe\">\n",
       "  <thead>\n",
       "    <tr style=\"text-align: right;\">\n",
       "      <th></th>\n",
       "      <th>congress</th>\n",
       "      <th>chamber</th>\n",
       "      <th>bioguide</th>\n",
       "      <th>firstname</th>\n",
       "      <th>middlename</th>\n",
       "      <th>lastname</th>\n",
       "      <th>suffix</th>\n",
       "      <th>birthday</th>\n",
       "      <th>state</th>\n",
       "      <th>party</th>\n",
       "      <th>incumbent</th>\n",
       "      <th>termstart</th>\n",
       "      <th>age</th>\n",
       "      <th>birthyear</th>\n",
       "    </tr>\n",
       "  </thead>\n",
       "  <tbody>\n",
       "    <tr>\n",
       "      <th>18091</th>\n",
       "      <td>113</td>\n",
       "      <td>house</td>\n",
       "      <td>H000067</td>\n",
       "      <td>Ralph</td>\n",
       "      <td>M.</td>\n",
       "      <td>Hall</td>\n",
       "      <td>NaN</td>\n",
       "      <td>1923-05-03</td>\n",
       "      <td>TX</td>\n",
       "      <td>R</td>\n",
       "      <td>Yes</td>\n",
       "      <td>2013-01-03</td>\n",
       "      <td>89.7</td>\n",
       "      <td>1923</td>\n",
       "    </tr>\n",
       "    <tr>\n",
       "      <th>18092</th>\n",
       "      <td>113</td>\n",
       "      <td>house</td>\n",
       "      <td>D000355</td>\n",
       "      <td>John</td>\n",
       "      <td>D.</td>\n",
       "      <td>Dingell</td>\n",
       "      <td>NaN</td>\n",
       "      <td>1926-07-08</td>\n",
       "      <td>MI</td>\n",
       "      <td>D</td>\n",
       "      <td>Yes</td>\n",
       "      <td>2013-01-03</td>\n",
       "      <td>86.5</td>\n",
       "      <td>1926</td>\n",
       "    </tr>\n",
       "    <tr>\n",
       "      <th>18093</th>\n",
       "      <td>113</td>\n",
       "      <td>house</td>\n",
       "      <td>C000714</td>\n",
       "      <td>John</td>\n",
       "      <td>NaN</td>\n",
       "      <td>Conyers</td>\n",
       "      <td>Jr.</td>\n",
       "      <td>1929-05-16</td>\n",
       "      <td>MI</td>\n",
       "      <td>D</td>\n",
       "      <td>Yes</td>\n",
       "      <td>2013-01-03</td>\n",
       "      <td>83.6</td>\n",
       "      <td>1929</td>\n",
       "    </tr>\n",
       "    <tr>\n",
       "      <th>18094</th>\n",
       "      <td>113</td>\n",
       "      <td>house</td>\n",
       "      <td>S000480</td>\n",
       "      <td>Louise</td>\n",
       "      <td>McIntosh</td>\n",
       "      <td>Slaughter</td>\n",
       "      <td>NaN</td>\n",
       "      <td>1929-08-14</td>\n",
       "      <td>NY</td>\n",
       "      <td>D</td>\n",
       "      <td>Yes</td>\n",
       "      <td>2013-01-03</td>\n",
       "      <td>83.4</td>\n",
       "      <td>1929</td>\n",
       "    </tr>\n",
       "    <tr>\n",
       "      <th>18095</th>\n",
       "      <td>113</td>\n",
       "      <td>house</td>\n",
       "      <td>R000053</td>\n",
       "      <td>Charles</td>\n",
       "      <td>B.</td>\n",
       "      <td>Rangel</td>\n",
       "      <td>NaN</td>\n",
       "      <td>1930-06-11</td>\n",
       "      <td>NY</td>\n",
       "      <td>D</td>\n",
       "      <td>Yes</td>\n",
       "      <td>2013-01-03</td>\n",
       "      <td>82.6</td>\n",
       "      <td>1930</td>\n",
       "    </tr>\n",
       "  </tbody>\n",
       "</table>\n",
       "</div>"
      ],
      "text/plain": [
       "       congress chamber bioguide firstname middlename   lastname suffix  \\\n",
       "18091       113   house  H000067     Ralph         M.       Hall    NaN   \n",
       "18092       113   house  D000355      John         D.    Dingell    NaN   \n",
       "18093       113   house  C000714      John        NaN    Conyers    Jr.   \n",
       "18094       113   house  S000480    Louise   McIntosh  Slaughter    NaN   \n",
       "18095       113   house  R000053   Charles         B.     Rangel    NaN   \n",
       "\n",
       "         birthday state party incumbent   termstart   age birthyear  \n",
       "18091  1923-05-03    TX     R       Yes  2013-01-03  89.7      1923  \n",
       "18092  1926-07-08    MI     D       Yes  2013-01-03  86.5      1926  \n",
       "18093  1929-05-16    MI     D       Yes  2013-01-03  83.6      1929  \n",
       "18094  1929-08-14    NY     D       Yes  2013-01-03  83.4      1929  \n",
       "18095  1930-06-11    NY     D       Yes  2013-01-03  82.6      1930  "
      ]
     },
     "execution_count": 63,
     "metadata": {},
     "output_type": "execute_result"
    }
   ],
   "source": [
    "congress_df.head()"
   ]
  },
  {
   "cell_type": "markdown",
   "metadata": {},
   "source": [
    "__Transformation (2):__ For our second dataset, I used BeautifulSoup and grabbeed and parsed the raw HTML from a table. I was able to do this by searching for \"<td\\>\" elements. Once I found these entries, I looped through the data and converted it to text. Then, I had to do a second loop and restructure the data, because much of it wasn't returning in the correct order. Finally, I replaced state names with their abbreviations. (This took a while, admittedly.)"
   ]
  },
  {
   "cell_type": "code",
   "execution_count": 64,
   "metadata": {},
   "outputs": [],
   "source": [
    "webpage = requests.get('https://worldpopulationreview.com/state-rankings/crime-rate-by-state')"
   ]
  },
  {
   "cell_type": "code",
   "execution_count": 65,
   "metadata": {},
   "outputs": [],
   "source": [
    "content = webpage.content"
   ]
  },
  {
   "cell_type": "code",
   "execution_count": 66,
   "metadata": {},
   "outputs": [],
   "source": [
    "soup = bs(content,'html.parser')"
   ]
  },
  {
   "cell_type": "code",
   "execution_count": 67,
   "metadata": {},
   "outputs": [],
   "source": [
    "dump = soup.find_all('td')"
   ]
  },
  {
   "cell_type": "code",
   "execution_count": 68,
   "metadata": {},
   "outputs": [],
   "source": [
    "t = [e.text for e in dump]"
   ]
  },
  {
   "cell_type": "code",
   "execution_count": 69,
   "metadata": {},
   "outputs": [],
   "source": [
    "n = [[t[i], t[i+1], t[i+2], t[i+3]] for i in range(0,len(t),4)]"
   ]
  },
  {
   "cell_type": "code",
   "execution_count": 70,
   "metadata": {},
   "outputs": [],
   "source": [
    "crime_df = pd.DataFrame(n,columns=['state', 'h-rate', 'fa-death rate', 'total fa-deaths'])"
   ]
  },
  {
   "cell_type": "code",
   "execution_count": 71,
   "metadata": {},
   "outputs": [
    {
     "data": {
      "text/html": [
       "<div>\n",
       "<style scoped>\n",
       "    .dataframe tbody tr th:only-of-type {\n",
       "        vertical-align: middle;\n",
       "    }\n",
       "\n",
       "    .dataframe tbody tr th {\n",
       "        vertical-align: top;\n",
       "    }\n",
       "\n",
       "    .dataframe thead th {\n",
       "        text-align: right;\n",
       "    }\n",
       "</style>\n",
       "<table border=\"1\" class=\"dataframe\">\n",
       "  <thead>\n",
       "    <tr style=\"text-align: right;\">\n",
       "      <th></th>\n",
       "      <th>state</th>\n",
       "      <th>h-rate</th>\n",
       "      <th>fa-death rate</th>\n",
       "      <th>total fa-deaths</th>\n",
       "    </tr>\n",
       "  </thead>\n",
       "  <tbody>\n",
       "    <tr>\n",
       "      <th>0</th>\n",
       "      <td>Louisiana</td>\n",
       "      <td>12.4</td>\n",
       "      <td>21.3</td>\n",
       "      <td>987</td>\n",
       "    </tr>\n",
       "    <tr>\n",
       "      <th>1</th>\n",
       "      <td>Missouri</td>\n",
       "      <td>9.8</td>\n",
       "      <td>19</td>\n",
       "      <td>1144</td>\n",
       "    </tr>\n",
       "    <tr>\n",
       "      <th>2</th>\n",
       "      <td>Nevada</td>\n",
       "      <td>9.1</td>\n",
       "      <td>16.8</td>\n",
       "      <td>498</td>\n",
       "    </tr>\n",
       "    <tr>\n",
       "      <th>3</th>\n",
       "      <td>Maryland</td>\n",
       "      <td>9</td>\n",
       "      <td>11.9</td>\n",
       "      <td>707</td>\n",
       "    </tr>\n",
       "    <tr>\n",
       "      <th>4</th>\n",
       "      <td>Arkansas</td>\n",
       "      <td>8.6</td>\n",
       "      <td>17.8</td>\n",
       "      <td>541</td>\n",
       "    </tr>\n",
       "  </tbody>\n",
       "</table>\n",
       "</div>"
      ],
      "text/plain": [
       "       state h-rate fa-death rate total fa-deaths\n",
       "0  Louisiana   12.4          21.3             987\n",
       "1   Missouri    9.8            19            1144\n",
       "2     Nevada    9.1          16.8             498\n",
       "3   Maryland      9          11.9             707\n",
       "4   Arkansas    8.6          17.8             541"
      ]
     },
     "execution_count": 71,
     "metadata": {},
     "output_type": "execute_result"
    }
   ],
   "source": [
    "crime_df.head()"
   ]
  },
  {
   "cell_type": "code",
   "execution_count": 72,
   "metadata": {},
   "outputs": [],
   "source": [
    "crime_df.replace(to_replace={'state':{\n",
    "    'Louisiana':'LA','Missouri':'MS','Nevada' : 'NV','Maryland' : 'MD','Arkansas' : 'AR',\n",
    "    'Alaska' : 'AK','Alabama' : 'AL','Mississippi' : 'MS','Tennessee' : 'TN', 'South Carolina' : 'SC',\n",
    "    'Illinois' : 'IL','New Mexico' : 'NM','Georgia' : 'GA','Oklahoma' : 'OK','Ohio' : 'OH',\n",
    "    'Indiana' : 'IN','Kentucky' : 'KY','Arizona' : 'AZ','Pennsylvania' : 'PA','North Carolina' : 'NC',\n",
    "    'Michigan' : 'MI','Delaware' : 'DE','Kansas' : 'KS','Virginia' : 'VA','Texas' : 'TX',\n",
    "    'Florida' : 'FL','West Virginia' : 'WV','California' : 'CA','Montana' : 'MT','Colorado' : 'CO',\n",
    "    'New Jersey' : 'NJ','Iowa' : 'IA','Wisconsin' : 'WI','Washington' : 'WA','South Dakota' : 'SD',\n",
    "    'New York' : 'NY','Connecticut' : 'CT','Hawaii' : 'HI','Wyoming' : 'WY','Oregon' : 'OR',\n",
    "    'Massachusetts' : 'MA','Utah' : 'UT','Vermont' : 'VT','Nebraska' : 'NE','Minnesota' : 'MN',\n",
    "    'Rhode Island' : 'RI','Idaho' : 'ID','Maine' : 'ME','North Dakota' : 'ND','New Hampshire' : 'NH'  \n",
    "}}, inplace = True)"
   ]
  },
  {
   "cell_type": "code",
   "execution_count": 73,
   "metadata": {},
   "outputs": [
    {
     "data": {
      "text/html": [
       "<div>\n",
       "<style scoped>\n",
       "    .dataframe tbody tr th:only-of-type {\n",
       "        vertical-align: middle;\n",
       "    }\n",
       "\n",
       "    .dataframe tbody tr th {\n",
       "        vertical-align: top;\n",
       "    }\n",
       "\n",
       "    .dataframe thead th {\n",
       "        text-align: right;\n",
       "    }\n",
       "</style>\n",
       "<table border=\"1\" class=\"dataframe\">\n",
       "  <thead>\n",
       "    <tr style=\"text-align: right;\">\n",
       "      <th></th>\n",
       "      <th>state</th>\n",
       "      <th>h-rate</th>\n",
       "      <th>fa-death rate</th>\n",
       "      <th>total fa-deaths</th>\n",
       "    </tr>\n",
       "  </thead>\n",
       "  <tbody>\n",
       "    <tr>\n",
       "      <th>0</th>\n",
       "      <td>LA</td>\n",
       "      <td>12.4</td>\n",
       "      <td>21.3</td>\n",
       "      <td>987</td>\n",
       "    </tr>\n",
       "    <tr>\n",
       "      <th>1</th>\n",
       "      <td>MS</td>\n",
       "      <td>9.8</td>\n",
       "      <td>19</td>\n",
       "      <td>1144</td>\n",
       "    </tr>\n",
       "    <tr>\n",
       "      <th>2</th>\n",
       "      <td>NV</td>\n",
       "      <td>9.1</td>\n",
       "      <td>16.8</td>\n",
       "      <td>498</td>\n",
       "    </tr>\n",
       "    <tr>\n",
       "      <th>3</th>\n",
       "      <td>MD</td>\n",
       "      <td>9</td>\n",
       "      <td>11.9</td>\n",
       "      <td>707</td>\n",
       "    </tr>\n",
       "    <tr>\n",
       "      <th>4</th>\n",
       "      <td>AR</td>\n",
       "      <td>8.6</td>\n",
       "      <td>17.8</td>\n",
       "      <td>541</td>\n",
       "    </tr>\n",
       "  </tbody>\n",
       "</table>\n",
       "</div>"
      ],
      "text/plain": [
       "  state h-rate fa-death rate total fa-deaths\n",
       "0    LA   12.4          21.3             987\n",
       "1    MS    9.8            19            1144\n",
       "2    NV    9.1          16.8             498\n",
       "3    MD      9          11.9             707\n",
       "4    AR    8.6          17.8             541"
      ]
     },
     "execution_count": 73,
     "metadata": {},
     "output_type": "execute_result"
    }
   ],
   "source": [
    "crime_df.head()"
   ]
  },
  {
   "cell_type": "code",
   "execution_count": 80,
   "metadata": {},
   "outputs": [
    {
     "data": {
      "text/plain": [
       "<Figure size 1008x432 with 0 Axes>"
      ]
     },
     "execution_count": 80,
     "metadata": {},
     "output_type": "execute_result"
    },
    {
     "data": {
      "text/plain": [
       "<Figure size 1008x432 with 0 Axes>"
      ]
     },
     "metadata": {},
     "output_type": "display_data"
    }
   ],
   "source": [
    "plt.figure(figsize=(14,6))"
   ]
  },
  {
   "cell_type": "code",
   "execution_count": 81,
   "metadata": {},
   "outputs": [],
   "source": [
    "sns.set()"
   ]
  },
  {
   "cell_type": "code",
   "execution_count": 82,
   "metadata": {},
   "outputs": [
    {
     "data": {
      "text/plain": [
       "<AxesSubplot:xlabel='birthyear', ylabel='Count'>"
      ]
     },
     "execution_count": 82,
     "metadata": {},
     "output_type": "execute_result"
    },
    {
     "data": {
      "image/png": "[encoded data removed]",
      "text/plain": [
       "<Figure size 432x288 with 1 Axes>"
      ]
     },
     "metadata": {},
     "output_type": "display_data"
    }
   ],
   "source": [
    "sns.histplot(congress_df['birthyear'])"
   ]
  },
  {
   "cell_type": "markdown",
   "metadata": {},
   "source": [
    "__Transformation (3):__ Here, we are going to merge our congress_df and our crime_df, creating a new dataframe which shows crime rates by state and 113th Congress incumbents."
   ]
  },
  {
   "cell_type": "code",
   "execution_count": 83,
   "metadata": {},
   "outputs": [],
   "source": [
    "new_df = pd.merge(congress_df, crime_df, on='state')"
   ]
  },
  {
   "cell_type": "code",
   "execution_count": 84,
   "metadata": {},
   "outputs": [
    {
     "data": {
      "text/html": [
       "<div>\n",
       "<style scoped>\n",
       "    .dataframe tbody tr th:only-of-type {\n",
       "        vertical-align: middle;\n",
       "    }\n",
       "\n",
       "    .dataframe tbody tr th {\n",
       "        vertical-align: top;\n",
       "    }\n",
       "\n",
       "    .dataframe thead th {\n",
       "        text-align: right;\n",
       "    }\n",
       "</style>\n",
       "<table border=\"1\" class=\"dataframe\">\n",
       "  <thead>\n",
       "    <tr style=\"text-align: right;\">\n",
       "      <th></th>\n",
       "      <th>congress</th>\n",
       "      <th>chamber</th>\n",
       "      <th>bioguide</th>\n",
       "      <th>firstname</th>\n",
       "      <th>middlename</th>\n",
       "      <th>lastname</th>\n",
       "      <th>suffix</th>\n",
       "      <th>birthday</th>\n",
       "      <th>state</th>\n",
       "      <th>party</th>\n",
       "      <th>incumbent</th>\n",
       "      <th>termstart</th>\n",
       "      <th>age</th>\n",
       "      <th>birthyear</th>\n",
       "      <th>h-rate</th>\n",
       "      <th>fa-death rate</th>\n",
       "      <th>total fa-deaths</th>\n",
       "    </tr>\n",
       "  </thead>\n",
       "  <tbody>\n",
       "    <tr>\n",
       "      <th>0</th>\n",
       "      <td>113</td>\n",
       "      <td>house</td>\n",
       "      <td>H000067</td>\n",
       "      <td>Ralph</td>\n",
       "      <td>M.</td>\n",
       "      <td>Hall</td>\n",
       "      <td>NaN</td>\n",
       "      <td>1923-05-03</td>\n",
       "      <td>TX</td>\n",
       "      <td>R</td>\n",
       "      <td>Yes</td>\n",
       "      <td>2013-01-03</td>\n",
       "      <td>89.7</td>\n",
       "      <td>1923</td>\n",
       "      <td>5</td>\n",
       "      <td>12.1</td>\n",
       "      <td>3353</td>\n",
       "    </tr>\n",
       "    <tr>\n",
       "      <th>1</th>\n",
       "      <td>113</td>\n",
       "      <td>house</td>\n",
       "      <td>J000174</td>\n",
       "      <td>Sam</td>\n",
       "      <td>Robert</td>\n",
       "      <td>Johnson</td>\n",
       "      <td>NaN</td>\n",
       "      <td>1930-10-11</td>\n",
       "      <td>TX</td>\n",
       "      <td>R</td>\n",
       "      <td>Yes</td>\n",
       "      <td>2013-01-03</td>\n",
       "      <td>82.2</td>\n",
       "      <td>1930</td>\n",
       "      <td>5</td>\n",
       "      <td>12.1</td>\n",
       "      <td>3353</td>\n",
       "    </tr>\n",
       "    <tr>\n",
       "      <th>2</th>\n",
       "      <td>113</td>\n",
       "      <td>house</td>\n",
       "      <td>J000126</td>\n",
       "      <td>Eddie</td>\n",
       "      <td>Bernice</td>\n",
       "      <td>Johnson</td>\n",
       "      <td>NaN</td>\n",
       "      <td>1935-12-03</td>\n",
       "      <td>TX</td>\n",
       "      <td>D</td>\n",
       "      <td>Yes</td>\n",
       "      <td>2013-01-03</td>\n",
       "      <td>77.1</td>\n",
       "      <td>1935</td>\n",
       "      <td>5</td>\n",
       "      <td>12.1</td>\n",
       "      <td>3353</td>\n",
       "    </tr>\n",
       "    <tr>\n",
       "      <th>3</th>\n",
       "      <td>113</td>\n",
       "      <td>house</td>\n",
       "      <td>H000636</td>\n",
       "      <td>Rubén</td>\n",
       "      <td>E.</td>\n",
       "      <td>Hinojosa</td>\n",
       "      <td>NaN</td>\n",
       "      <td>1940-08-20</td>\n",
       "      <td>TX</td>\n",
       "      <td>D</td>\n",
       "      <td>Yes</td>\n",
       "      <td>2013-01-03</td>\n",
       "      <td>72.4</td>\n",
       "      <td>1940</td>\n",
       "      <td>5</td>\n",
       "      <td>12.1</td>\n",
       "      <td>3353</td>\n",
       "    </tr>\n",
       "    <tr>\n",
       "      <th>4</th>\n",
       "      <td>113</td>\n",
       "      <td>house</td>\n",
       "      <td>C001051</td>\n",
       "      <td>John</td>\n",
       "      <td>R.</td>\n",
       "      <td>Carter</td>\n",
       "      <td>NaN</td>\n",
       "      <td>1941-11-06</td>\n",
       "      <td>TX</td>\n",
       "      <td>R</td>\n",
       "      <td>Yes</td>\n",
       "      <td>2013-01-03</td>\n",
       "      <td>71.2</td>\n",
       "      <td>1941</td>\n",
       "      <td>5</td>\n",
       "      <td>12.1</td>\n",
       "      <td>3353</td>\n",
       "    </tr>\n",
       "  </tbody>\n",
       "</table>\n",
       "</div>"
      ],
      "text/plain": [
       "   congress chamber bioguide firstname middlename  lastname suffix  \\\n",
       "0       113   house  H000067     Ralph         M.      Hall    NaN   \n",
       "1       113   house  J000174       Sam     Robert   Johnson    NaN   \n",
       "2       113   house  J000126     Eddie    Bernice   Johnson    NaN   \n",
       "3       113   house  H000636     Rubén         E.  Hinojosa    NaN   \n",
       "4       113   house  C001051      John         R.    Carter    NaN   \n",
       "\n",
       "     birthday state party incumbent   termstart   age birthyear h-rate  \\\n",
       "0  1923-05-03    TX     R       Yes  2013-01-03  89.7      1923      5   \n",
       "1  1930-10-11    TX     R       Yes  2013-01-03  82.2      1930      5   \n",
       "2  1935-12-03    TX     D       Yes  2013-01-03  77.1      1935      5   \n",
       "3  1940-08-20    TX     D       Yes  2013-01-03  72.4      1940      5   \n",
       "4  1941-11-06    TX     R       Yes  2013-01-03  71.2      1941      5   \n",
       "\n",
       "  fa-death rate total fa-deaths  \n",
       "0          12.1            3353  \n",
       "1          12.1            3353  \n",
       "2          12.1            3353  \n",
       "3          12.1            3353  \n",
       "4          12.1            3353  "
      ]
     },
     "execution_count": 84,
     "metadata": {},
     "output_type": "execute_result"
    }
   ],
   "source": [
    "new_df.head()"
   ]
  },
  {
   "cell_type": "markdown",
   "metadata": {},
   "source": [
    "Using our new dataframe, \"new_df,\" we plot a line graph via Seaborn. This graph indicates states on the x-axis and homicide rates on the y-axis; line hues vary based on party of the Congressional incumbent."
   ]
  },
  {
   "cell_type": "code",
   "execution_count": 86,
   "metadata": {},
   "outputs": [
    {
     "data": {
      "text/plain": [
       "<AxesSubplot:xlabel='state', ylabel='h-rate'>"
      ]
     },
     "execution_count": 86,
     "metadata": {},
     "output_type": "execute_result"
    },
    {
     "data": {
      "image/png": "[encoded data removed]",
      "text/plain": [
       "<Figure size 432x288 with 1 Axes>"
      ]
     },
     "metadata": {},
     "output_type": "display_data"
    }
   ],
   "source": [
    "sns.lineplot(data=new_df, x='state', y='h-rate', hue='party')"
   ]
  },
  {
   "cell_type": "code",
   "execution_count": null,
   "metadata": {},
   "outputs": [],
   "source": []
  }
 ],
 "metadata": {
  "kernelspec": {
   "display_name": "Python 3",
   "language": "python",
   "name": "python3"
  },
  "language_info": {
   "codemirror_mode": {
    "name": "ipython",
    "version": 3
   },
   "file_extension": ".py",
   "mimetype": "text/x-python",
   "name": "python",
   "nbconvert_exporter": "python",
   "pygments_lexer": "ipython3",
   "version": "3.8.1"
  }
 },
 "nbformat": 4,
 "nbformat_minor": 4
}
